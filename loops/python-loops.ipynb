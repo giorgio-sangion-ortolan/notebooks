{
 "cells": [
  {
   "attachments": {},
   "cell_type": "markdown",
   "metadata": {},
   "source": [
    "# I Cicli\n",
    "I cicli ci permettono di eseguire delle istruzioni in maniera ciclica. Python mette a disposizone due tipi di cicli: `while` e `for`."
   ]
  },
  {
   "attachments": {},
   "cell_type": "markdown",
   "metadata": {},
   "source": [
    "## Il Ciclo `while`\n",
    "Il ciclo `while` esegue un blocco di codice in maniera ciclica fin quando la condizione espressa la suo interno non è verificata."
   ]
  },
  {
   "cell_type": "code",
   "execution_count": 1,
   "metadata": {},
   "outputs": [],
   "source": [
    "# Acquisiamo del testo fino a quando non inseriamo \"esci\"\n",
    "\n",
    "msg = \"\"\n",
    "while(msg != \"esci\"):\n",
    "    msg = input(\"Giuseppe:\")"
   ]
  },
  {
   "attachments": {},
   "cell_type": "markdown",
   "metadata": {},
   "source": [
    "I cicli vengono spesso combinati con una variabile indice, che tiene traccia del numero di ciclo corrente."
   ]
  },
  {
   "cell_type": "code",
   "execution_count": 13,
   "metadata": {},
   "outputs": [
    {
     "name": "stdout",
     "output_type": "stream",
     "text": [
      "1 2 3 4 5 6 7 8 9 "
     ]
    }
   ],
   "source": [
    "n = int(input(\"Fino a che numero vuoi stampare?\"))\n",
    "i = 1\n",
    "\n",
    "while i<=n:\n",
    "    print(f\"{i}\", end=\" \")\n",
    "    i+=1"
   ]
  },
  {
   "attachments": {},
   "cell_type": "markdown",
   "metadata": {},
   "source": [
    "Possiamo combinare un ciclo con delle istruzioni condizionali utilizzando lo statement `if`."
   ]
  },
  {
   "cell_type": "code",
   "execution_count": 14,
   "metadata": {},
   "outputs": [
    {
     "name": "stdout",
     "output_type": "stream",
     "text": [
      "1: dispari\n",
      "2: pari\n",
      "3: dispari\n",
      "4: pari\n",
      "5: dispari\n",
      "6: pari\n",
      "7: dispari\n",
      "8: pari\n"
     ]
    }
   ],
   "source": [
    "n = int(input(\"Fino a che numero vuoi stampare?\"))\n",
    "i = 1\n",
    "while i <= n:\n",
    "    if (i%2):\n",
    "        print(f\"{i}: dispari\")\n",
    "    else:\n",
    "        print(f\"{i}: pari\")\n",
    "    i+=1"
   ]
  },
  {
   "attachments": {},
   "cell_type": "markdown",
   "metadata": {},
   "source": [
    "O l'espressione `if`. "
   ]
  },
  {
   "cell_type": "code",
   "execution_count": 15,
   "metadata": {},
   "outputs": [
    {
     "name": "stdout",
     "output_type": "stream",
     "text": [
      "1: dispari\n",
      "2: pari\n",
      "3: dispari\n",
      "4: pari\n",
      "5: dispari\n",
      "6: pari\n",
      "7: dispari\n"
     ]
    }
   ],
   "source": [
    "n = int(input(\"Fino a che numero vuoi stampare?\"))\n",
    "i = 1\n",
    "while i <= n:\n",
    "    print(\"%d: %s\" % (i, \"dispari\" if i%2 else \"pari\"))\n",
    "    i+=1"
   ]
  },
  {
   "attachments": {},
   "cell_type": "markdown",
   "metadata": {},
   "source": [
    "L'utilizzo più popolare della variabile indice è quello di permetterci di accedere agli elementi di una collezione."
   ]
  },
  {
   "cell_type": "code",
   "execution_count": 17,
   "metadata": {},
   "outputs": [
    {
     "name": "stdout",
     "output_type": "stream",
     "text": [
      "La mia lista della spesa:\n",
      "1) tofu\n",
      "2) latte di soia\n",
      "3) riso basmati\n",
      "4) yogurt greco\n"
     ]
    }
   ],
   "source": [
    "shopping_list = [\"tofu\", \"latte di soia\", \"riso basmati\", \"yogurt greco\"]\n",
    "\n",
    "print(\"La mia lista della spesa:\")\n",
    "for i in range(len(shopping_list)):\n",
    "    print(\"%d) %s\" % (i+1, shopping_list[i]))"
   ]
  }
 ],
 "metadata": {
  "kernelspec": {
   "display_name": "Python 3",
   "language": "python",
   "name": "python3"
  },
  "language_info": {
   "codemirror_mode": {
    "name": "ipython",
    "version": 3
   },
   "file_extension": ".py",
   "mimetype": "text/x-python",
   "name": "python",
   "nbconvert_exporter": "python",
   "pygments_lexer": "ipython3",
   "version": "3.11.1 (main, Dec 23 2022, 09:28:24) [Clang 14.0.0 (clang-1400.0.29.202)]"
  },
  "orig_nbformat": 4,
  "vscode": {
   "interpreter": {
    "hash": "5c7b89af1651d0b8571dde13640ecdccf7d5a6204171d6ab33e7c296e100e08a"
   }
  }
 },
 "nbformat": 4,
 "nbformat_minor": 2
}
